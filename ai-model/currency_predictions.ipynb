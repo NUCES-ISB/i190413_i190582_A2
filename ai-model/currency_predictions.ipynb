{
 "cells": [
  {
   "cell_type": "markdown",
   "metadata": {},
   "source": [
    "### Import libraries"
   ]
  },
  {
   "cell_type": "code",
   "execution_count": 133,
   "metadata": {},
   "outputs": [],
   "source": [
    "import pandas as pd\n",
    "import numpy as np\n",
    "%matplotlib inline\n",
    "import matplotlib.pyplot as plt\n",
    "import sklearn.metrics as metrics\n",
    "from sklearn.preprocessing import StandardScaler\n",
    "from sklearn.metrics import r2_score\n",
    "from keras.models import Sequential\n",
    "import tensorflow as tf\n",
    "from keras.layers import Dense\n",
    "import keras.backend as K\n",
    "from keras.callbacks import EarlyStopping\n",
    "from keras.optimizers import Adam\n",
    "from keras.layers import Dropout\n",
    "def adj_r2_score(r2, n, k):\n",
    "    return 1-((1-r2)*((n-1)/(n-k-1)))"
   ]
  },
  {
   "cell_type": "code",
   "execution_count": 134,
   "metadata": {},
   "outputs": [
    {
     "data": {
      "text/html": [
       "<div>\n",
       "<style scoped>\n",
       "    .dataframe tbody tr th:only-of-type {\n",
       "        vertical-align: middle;\n",
       "    }\n",
       "\n",
       "    .dataframe tbody tr th {\n",
       "        vertical-align: top;\n",
       "    }\n",
       "\n",
       "    .dataframe thead th {\n",
       "        text-align: right;\n",
       "    }\n",
       "</style>\n",
       "<table border=\"1\" class=\"dataframe\">\n",
       "  <thead>\n",
       "    <tr style=\"text-align: right;\">\n",
       "      <th></th>\n",
       "      <th>Date</th>\n",
       "      <th>Price</th>\n",
       "      <th>Open</th>\n",
       "      <th>High</th>\n",
       "      <th>Low</th>\n",
       "      <th>Vol.</th>\n",
       "      <th>Change %</th>\n",
       "    </tr>\n",
       "  </thead>\n",
       "  <tbody>\n",
       "    <tr>\n",
       "      <th>0</th>\n",
       "      <td>03/22/2023</td>\n",
       "      <td>283.125</td>\n",
       "      <td>284.125</td>\n",
       "      <td>284.125</td>\n",
       "      <td>279.50</td>\n",
       "      <td>0.03K</td>\n",
       "      <td>0.73%</td>\n",
       "    </tr>\n",
       "    <tr>\n",
       "      <th>1</th>\n",
       "      <td>03/21/2023</td>\n",
       "      <td>281.060</td>\n",
       "      <td>284.500</td>\n",
       "      <td>284.500</td>\n",
       "      <td>279.63</td>\n",
       "      <td>0.02K</td>\n",
       "      <td>-0.06%</td>\n",
       "    </tr>\n",
       "    <tr>\n",
       "      <th>2</th>\n",
       "      <td>03/20/2023</td>\n",
       "      <td>281.220</td>\n",
       "      <td>278.250</td>\n",
       "      <td>284.625</td>\n",
       "      <td>278.25</td>\n",
       "      <td>0.05K</td>\n",
       "      <td>-0.10%</td>\n",
       "    </tr>\n",
       "    <tr>\n",
       "      <th>3</th>\n",
       "      <td>03/17/2023</td>\n",
       "      <td>281.500</td>\n",
       "      <td>282.875</td>\n",
       "      <td>283.375</td>\n",
       "      <td>278.13</td>\n",
       "      <td>0.02K</td>\n",
       "      <td>-0.53%</td>\n",
       "    </tr>\n",
       "    <tr>\n",
       "      <th>4</th>\n",
       "      <td>03/16/2023</td>\n",
       "      <td>283.000</td>\n",
       "      <td>282.875</td>\n",
       "      <td>283.375</td>\n",
       "      <td>278.75</td>\n",
       "      <td>0.02K</td>\n",
       "      <td>0.00%</td>\n",
       "    </tr>\n",
       "  </tbody>\n",
       "</table>\n",
       "</div>"
      ],
      "text/plain": [
       "         Date    Price     Open     High     Low   Vol. Change %\n",
       "0  03/22/2023  283.125  284.125  284.125  279.50  0.03K    0.73%\n",
       "1  03/21/2023  281.060  284.500  284.500  279.63  0.02K   -0.06%\n",
       "2  03/20/2023  281.220  278.250  284.625  278.25  0.05K   -0.10%\n",
       "3  03/17/2023  281.500  282.875  283.375  278.13  0.02K   -0.53%\n",
       "4  03/16/2023  283.000  282.875  283.375  278.75  0.02K    0.00%"
      ]
     },
     "execution_count": 134,
     "metadata": {},
     "output_type": "execute_result"
    }
   ],
   "source": [
    "#reading dataset\n",
    "exchange_data = pd.read_csv('dataset/usd_pkr_records.csv')\n",
    "exchange_data.head()\n"
   ]
  },
  {
   "cell_type": "code",
   "execution_count": 135,
   "metadata": {},
   "outputs": [],
   "source": [
    "exchange_data[\"Date\"] = pd.to_datetime(exchange_data[\"Date\"])\n",
    "ind_exchange_data = exchange_data.set_index([\"Date\"], drop=True)"
   ]
  },
  {
   "cell_type": "code",
   "execution_count": 136,
   "metadata": {},
   "outputs": [
    {
     "data": {
      "text/html": [
       "<div>\n",
       "<style scoped>\n",
       "    .dataframe tbody tr th:only-of-type {\n",
       "        vertical-align: middle;\n",
       "    }\n",
       "\n",
       "    .dataframe tbody tr th {\n",
       "        vertical-align: top;\n",
       "    }\n",
       "\n",
       "    .dataframe thead th {\n",
       "        text-align: right;\n",
       "    }\n",
       "</style>\n",
       "<table border=\"1\" class=\"dataframe\">\n",
       "  <thead>\n",
       "    <tr style=\"text-align: right;\">\n",
       "      <th></th>\n",
       "      <th>Price</th>\n",
       "      <th>Open</th>\n",
       "      <th>High</th>\n",
       "      <th>Low</th>\n",
       "      <th>Vol.</th>\n",
       "      <th>Change %</th>\n",
       "    </tr>\n",
       "    <tr>\n",
       "      <th>Date</th>\n",
       "      <th></th>\n",
       "      <th></th>\n",
       "      <th></th>\n",
       "      <th></th>\n",
       "      <th></th>\n",
       "      <th></th>\n",
       "    </tr>\n",
       "  </thead>\n",
       "  <tbody>\n",
       "    <tr>\n",
       "      <th>2023-03-22</th>\n",
       "      <td>283.125</td>\n",
       "      <td>284.125</td>\n",
       "      <td>284.125</td>\n",
       "      <td>279.50</td>\n",
       "      <td>0.03K</td>\n",
       "      <td>0.73%</td>\n",
       "    </tr>\n",
       "    <tr>\n",
       "      <th>2023-03-21</th>\n",
       "      <td>281.060</td>\n",
       "      <td>284.500</td>\n",
       "      <td>284.500</td>\n",
       "      <td>279.63</td>\n",
       "      <td>0.02K</td>\n",
       "      <td>-0.06%</td>\n",
       "    </tr>\n",
       "    <tr>\n",
       "      <th>2023-03-20</th>\n",
       "      <td>281.220</td>\n",
       "      <td>278.250</td>\n",
       "      <td>284.625</td>\n",
       "      <td>278.25</td>\n",
       "      <td>0.05K</td>\n",
       "      <td>-0.10%</td>\n",
       "    </tr>\n",
       "    <tr>\n",
       "      <th>2023-03-17</th>\n",
       "      <td>281.500</td>\n",
       "      <td>282.875</td>\n",
       "      <td>283.375</td>\n",
       "      <td>278.13</td>\n",
       "      <td>0.02K</td>\n",
       "      <td>-0.53%</td>\n",
       "    </tr>\n",
       "    <tr>\n",
       "      <th>2023-03-16</th>\n",
       "      <td>283.000</td>\n",
       "      <td>282.875</td>\n",
       "      <td>283.375</td>\n",
       "      <td>278.75</td>\n",
       "      <td>0.02K</td>\n",
       "      <td>0.00%</td>\n",
       "    </tr>\n",
       "  </tbody>\n",
       "</table>\n",
       "</div>"
      ],
      "text/plain": [
       "              Price     Open     High     Low   Vol. Change %\n",
       "Date                                                         \n",
       "2023-03-22  283.125  284.125  284.125  279.50  0.03K    0.73%\n",
       "2023-03-21  281.060  284.500  284.500  279.63  0.02K   -0.06%\n",
       "2023-03-20  281.220  278.250  284.625  278.25  0.05K   -0.10%\n",
       "2023-03-17  281.500  282.875  283.375  278.13  0.02K   -0.53%\n",
       "2023-03-16  283.000  282.875  283.375  278.75  0.02K    0.00%"
      ]
     },
     "execution_count": 136,
     "metadata": {},
     "output_type": "execute_result"
    }
   ],
   "source": [
    "#checking first few records of the dataset\n",
    "ind_exchange_data.head()"
   ]
  },
  {
   "cell_type": "code",
   "execution_count": 137,
   "metadata": {},
   "outputs": [
    {
     "data": {
      "text/html": [
       "<div>\n",
       "<style scoped>\n",
       "    .dataframe tbody tr th:only-of-type {\n",
       "        vertical-align: middle;\n",
       "    }\n",
       "\n",
       "    .dataframe tbody tr th {\n",
       "        vertical-align: top;\n",
       "    }\n",
       "\n",
       "    .dataframe thead th {\n",
       "        text-align: right;\n",
       "    }\n",
       "</style>\n",
       "<table border=\"1\" class=\"dataframe\">\n",
       "  <thead>\n",
       "    <tr style=\"text-align: right;\">\n",
       "      <th></th>\n",
       "      <th>Change %</th>\n",
       "      <th>High</th>\n",
       "      <th>Low</th>\n",
       "      <th>Open</th>\n",
       "      <th>Price</th>\n",
       "      <th>Vol.</th>\n",
       "    </tr>\n",
       "    <tr>\n",
       "      <th>Date</th>\n",
       "      <th></th>\n",
       "      <th></th>\n",
       "      <th></th>\n",
       "      <th></th>\n",
       "      <th></th>\n",
       "      <th></th>\n",
       "    </tr>\n",
       "  </thead>\n",
       "  <tbody>\n",
       "    <tr>\n",
       "      <th>2019-01-01</th>\n",
       "      <td>0.00%</td>\n",
       "      <td>139.80</td>\n",
       "      <td>139.80</td>\n",
       "      <td>139.80</td>\n",
       "      <td>139.80</td>\n",
       "      <td>0.11K</td>\n",
       "    </tr>\n",
       "    <tr>\n",
       "      <th>2019-01-02</th>\n",
       "      <td>0.04%</td>\n",
       "      <td>140.05</td>\n",
       "      <td>138.30</td>\n",
       "      <td>139.75</td>\n",
       "      <td>139.85</td>\n",
       "      <td>0.16K</td>\n",
       "    </tr>\n",
       "    <tr>\n",
       "      <th>2019-01-03</th>\n",
       "      <td>0.00%</td>\n",
       "      <td>140.04</td>\n",
       "      <td>138.35</td>\n",
       "      <td>139.85</td>\n",
       "      <td>139.85</td>\n",
       "      <td>1.50K</td>\n",
       "    </tr>\n",
       "    <tr>\n",
       "      <th>2019-01-04</th>\n",
       "      <td>0.00%</td>\n",
       "      <td>140.00</td>\n",
       "      <td>135.37</td>\n",
       "      <td>139.85</td>\n",
       "      <td>139.85</td>\n",
       "      <td>1.92K</td>\n",
       "    </tr>\n",
       "    <tr>\n",
       "      <th>2019-01-05</th>\n",
       "      <td>0.00%</td>\n",
       "      <td>139.85</td>\n",
       "      <td>139.85</td>\n",
       "      <td>139.85</td>\n",
       "      <td>139.85</td>\n",
       "      <td>NaN</td>\n",
       "    </tr>\n",
       "  </tbody>\n",
       "</table>\n",
       "</div>"
      ],
      "text/plain": [
       "           Change %    High     Low    Open   Price   Vol.\n",
       "Date                                                      \n",
       "2019-01-01    0.00%  139.80  139.80  139.80  139.80  0.11K\n",
       "2019-01-02    0.04%  140.05  138.30  139.75  139.85  0.16K\n",
       "2019-01-03    0.00%  140.04  138.35  139.85  139.85  1.50K\n",
       "2019-01-04    0.00%  140.00  135.37  139.85  139.85  1.92K\n",
       "2019-01-05    0.00%  139.85  139.85  139.85  139.85    NaN"
      ]
     },
     "execution_count": 137,
     "metadata": {},
     "output_type": "execute_result"
    }
   ],
   "source": [
    "# sorting the dataset in ascending order of date\n",
    "data_frame = ind_exchange_data.sort_index(axis=1 ,ascending=True)\n",
    "data_frame = data_frame.iloc[::-1]\n",
    "data_frame.head()"
   ]
  },
  {
   "cell_type": "code",
   "execution_count": 138,
   "metadata": {},
   "outputs": [
    {
     "data": {
      "text/plain": [
       "<Axes: xlabel='Date'>"
      ]
     },
     "execution_count": 138,
     "metadata": {},
     "output_type": "execute_result"
    },
    {
     "data": {
      "image/png": "[encoded data removed]",
      "text/plain": [
       "<Figure size 1200x700 with 1 Axes>"
      ]
     },
     "metadata": {},
     "output_type": "display_data"
    }
   ],
   "source": [
    "df = data_frame[[\"Price\"]]\n",
    "\n",
    "#plotting dataset to visualize the pattern of prices over the years\n",
    "\n",
    "df.plot(kind='line',figsize=(12,7))"
   ]
  },
  {
   "cell_type": "markdown",
   "metadata": {},
   "source": [
    "Now, checking total data in the dataset in terms of years and further check 80% of the dataset lies within which interval"
   ]
  },
  {
   "cell_type": "code",
   "execution_count": 139,
   "metadata": {},
   "outputs": [
    {
     "name": "stdout",
     "output_type": "stream",
     "text": [
      "Total data: 4 years\n",
      "80 percent data = 2019 to 2022\n"
     ]
    }
   ],
   "source": [
    "diff = df.index.values[-1] - df.index.values[0]\n",
    "days = diff.astype('timedelta64[D]')\n",
    "days = days / np.timedelta64(1, 'D')\n",
    "years = int(days/365)\n",
    "print(\"Total data: %d years\"%years)\n",
    "print(\"80 percent data = 2019 to %d\"%(2019 + int(0.8*years)))"
   ]
  },
  {
   "cell_type": "markdown",
   "metadata": {},
   "source": [
    "### Summary Statistics"
   ]
  },
  {
   "cell_type": "code",
   "execution_count": 140,
   "metadata": {},
   "outputs": [
    {
     "data": {
      "text/html": [
       "<div>\n",
       "<style scoped>\n",
       "    .dataframe tbody tr th:only-of-type {\n",
       "        vertical-align: middle;\n",
       "    }\n",
       "\n",
       "    .dataframe tbody tr th {\n",
       "        vertical-align: top;\n",
       "    }\n",
       "\n",
       "    .dataframe thead th {\n",
       "        text-align: right;\n",
       "    }\n",
       "</style>\n",
       "<table border=\"1\" class=\"dataframe\">\n",
       "  <thead>\n",
       "    <tr style=\"text-align: right;\">\n",
       "      <th></th>\n",
       "      <th>Price</th>\n",
       "    </tr>\n",
       "  </thead>\n",
       "  <tbody>\n",
       "    <tr>\n",
       "      <th>count</th>\n",
       "      <td>1184.000000</td>\n",
       "    </tr>\n",
       "    <tr>\n",
       "      <th>mean</th>\n",
       "      <td>172.745097</td>\n",
       "    </tr>\n",
       "    <tr>\n",
       "      <th>std</th>\n",
       "      <td>30.368351</td>\n",
       "    </tr>\n",
       "    <tr>\n",
       "      <th>min</th>\n",
       "      <td>138.625000</td>\n",
       "    </tr>\n",
       "    <tr>\n",
       "      <th>25%</th>\n",
       "      <td>154.987500</td>\n",
       "    </tr>\n",
       "    <tr>\n",
       "      <th>50%</th>\n",
       "      <td>160.275000</td>\n",
       "    </tr>\n",
       "    <tr>\n",
       "      <th>75%</th>\n",
       "      <td>176.725000</td>\n",
       "    </tr>\n",
       "    <tr>\n",
       "      <th>max</th>\n",
       "      <td>283.125000</td>\n",
       "    </tr>\n",
       "  </tbody>\n",
       "</table>\n",
       "</div>"
      ],
      "text/plain": [
       "             Price\n",
       "count  1184.000000\n",
       "mean    172.745097\n",
       "std      30.368351\n",
       "min     138.625000\n",
       "25%     154.987500\n",
       "50%     160.275000\n",
       "75%     176.725000\n",
       "max     283.125000"
      ]
     },
     "execution_count": 140,
     "metadata": {},
     "output_type": "execute_result"
    }
   ],
   "source": [
    "df.describe()"
   ]
  },
  {
   "cell_type": "markdown",
   "metadata": {},
   "source": [
    "### Train Test Split\n",
    "\n",
    "As we have seen 80% of the data lies in the interval of 2010 and 2018 so we will train the model for the date range of **26 August 2010 to 26 August 2018** and rest will be used as the testing data"
   ]
  },
  {
   "cell_type": "code",
   "execution_count": 141,
   "metadata": {},
   "outputs": [
    {
     "data": {
      "text/plain": [
       "<matplotlib.legend.Legend at 0x17ef8f7bd90>"
      ]
     },
     "execution_count": 141,
     "metadata": {},
     "output_type": "execute_result"
    },
    {
     "data": {
      "image/png": "[encoded data removed]",
      "text/plain": [
       "<Figure size 1200x800 with 1 Axes>"
      ]
     },
     "metadata": {},
     "output_type": "display_data"
    }
   ],
   "source": [
    "split_date = pd.Timestamp('2023-02-01')\n",
    "\n",
    "train = df.loc[:split_date]\n",
    "test = df.loc[split_date:]\n",
    "\n",
    "ax = train.plot(kind='line',figsize=(12,8))\n",
    "test.plot(ax=ax,kind='line',figsize=(12,8))\n",
    "plt.legend(['train', 'test'])"
   ]
  },
  {
   "cell_type": "markdown",
   "metadata": {},
   "source": [
    "### Data Normalization"
   ]
  },
  {
   "cell_type": "code",
   "execution_count": 142,
   "metadata": {},
   "outputs": [],
   "source": [
    "from sklearn.preprocessing import StandardScaler"
   ]
  },
  {
   "cell_type": "code",
   "execution_count": 143,
   "metadata": {},
   "outputs": [],
   "source": [
    "sc = StandardScaler()\n",
    "train_sc = sc.fit_transform(train)\n",
    "test_sc = sc.transform(test)"
   ]
  },
  {
   "cell_type": "code",
   "execution_count": 144,
   "metadata": {},
   "outputs": [],
   "source": [
    "X_train = train_sc[:-1]\n",
    "y_train = train_sc[1:]\n",
    "\n",
    "X_test = test_sc[:-1]\n",
    "y_test = test_sc[1:]"
   ]
  },
  {
   "cell_type": "code",
   "execution_count": 145,
   "metadata": {},
   "outputs": [
    {
     "data": {
      "text/plain": [
       "array([[-1.18443713],\n",
       "       [-1.18245783],\n",
       "       [-1.18245783],\n",
       "       ...,\n",
       "       [ 3.69454261],\n",
       "       [ 3.67672889],\n",
       "       [ 3.8707005 ]])"
      ]
     },
     "execution_count": 145,
     "metadata": {},
     "output_type": "execute_result"
    }
   ],
   "source": [
    "X_train"
   ]
  },
  {
   "attachments": {},
   "cell_type": "markdown",
   "metadata": {},
   "source": [
    "### Data preprocessing for GRU"
   ]
  },
  {
   "cell_type": "code",
   "execution_count": 146,
   "metadata": {},
   "outputs": [],
   "source": [
    "X_tr_t = X_train.reshape(X_train.shape[0], 1, X_train.shape[1])\n",
    "X_tst_t = X_test.reshape(X_test.shape[0], 1, X_test.shape[1])"
   ]
  },
  {
   "cell_type": "markdown",
   "metadata": {},
   "source": [
    "### GRU"
   ]
  },
  {
   "cell_type": "code",
   "execution_count": 147,
   "metadata": {},
   "outputs": [
    {
     "name": "stdout",
     "output_type": "stream",
     "text": [
      "Model: \"sequential\"\n",
      "_________________________________________________________________\n",
      " Layer (type)                Output Shape              Param #   \n",
      "=================================================================\n",
      " gru (GRU)                   (None, 7)                 210       \n",
      "                                                                 \n",
      " dense (Dense)               (None, 1)                 8         \n",
      "                                                                 \n",
      "=================================================================\n",
      "Total params: 218\n",
      "Trainable params: 218\n",
      "Non-trainable params: 0\n",
      "_________________________________________________________________\n"
     ]
    }
   ],
   "source": [
    "from keras.layers import GRU\n",
    "K.clear_session()\n",
    "model_gru = Sequential()\n",
    "model_gru.add(GRU(7, input_shape=(1, X_train.shape[1]), activation='linear', kernel_initializer='lecun_uniform', return_sequences=False))\n",
    "model_gru.add(Dense(1))\n",
    "model_gru.summary()"
   ]
  },
  {
   "cell_type": "code",
   "execution_count": 148,
   "metadata": {},
   "outputs": [
    {
     "name": "stdout",
     "output_type": "stream",
     "text": [
      "Epoch 1/100\n",
      "1148/1148 [==============================] - 3s 2ms/step - loss: 0.0070 - rmse: 0.0840\n",
      "Epoch 2/100\n",
      "1148/1148 [==============================] - 2s 2ms/step - loss: 0.0038 - rmse: 0.0613\n",
      "Epoch 3/100\n",
      "1148/1148 [==============================] - 2s 2ms/step - loss: 0.0038 - rmse: 0.0617\n",
      "Epoch 4/100\n",
      "1148/1148 [==============================] - 2s 2ms/step - loss: 0.0032 - rmse: 0.0568\n",
      "Epoch 5/100\n",
      "1148/1148 [==============================] - 2s 2ms/step - loss: 0.0032 - rmse: 0.0564\n",
      "Epoch 6/100\n",
      "1148/1148 [==============================] - 2s 2ms/step - loss: 0.0031 - rmse: 0.0556\n",
      "Epoch 7/100\n",
      "1148/1148 [==============================] - 2s 2ms/step - loss: 0.0030 - rmse: 0.0547\n",
      "Epoch 8/100\n",
      "1148/1148 [==============================] - 2s 2ms/step - loss: 0.0030 - rmse: 0.0543\n",
      "Epoch 9/100\n",
      "1148/1148 [==============================] - 3s 2ms/step - loss: 0.0029 - rmse: 0.0543\n",
      "Epoch 10/100\n",
      "1148/1148 [==============================] - 2s 2ms/step - loss: 0.0030 - rmse: 0.0545\n",
      "Epoch 11/100\n",
      "1148/1148 [==============================] - 2s 2ms/step - loss: 0.0030 - rmse: 0.0548\n",
      "Epoch 12/100\n",
      "1148/1148 [==============================] - 3s 3ms/step - loss: 0.0030 - rmse: 0.0552\n",
      "Epoch 13/100\n",
      "1148/1148 [==============================] - 3s 2ms/step - loss: 0.0031 - rmse: 0.0556\n",
      "Epoch 14/100\n",
      "1148/1148 [==============================] - 2s 2ms/step - loss: 0.0031 - rmse: 0.0560\n",
      "Epoch 15/100\n",
      "1148/1148 [==============================] - 3s 2ms/step - loss: 0.0032 - rmse: 0.0564\n",
      "Epoch 16/100\n",
      "1148/1148 [==============================] - 3s 3ms/step - loss: 0.0032 - rmse: 0.0567\n",
      "Epoch 17/100\n",
      "1148/1148 [==============================] - 4s 3ms/step - loss: 0.0033 - rmse: 0.0570\n",
      "Epoch 18/100\n",
      "1148/1148 [==============================] - 3s 3ms/step - loss: 0.0033 - rmse: 0.0573\n",
      "Epoch 19/100\n",
      "1148/1148 [==============================] - 2s 2ms/step - loss: 0.0033 - rmse: 0.0575\n",
      "Epoch 19: early stopping\n"
     ]
    }
   ],
   "source": [
    "model_gru.compile(loss=tf.keras.metrics.mean_squared_error,\n",
    "              metrics=[tf.keras.metrics.RootMeanSquaredError(name='rmse')], optimizer='adam')\n",
    "early_stop = EarlyStopping(monitor='loss', patience=10, verbose=1)\n",
    "history_model_gru = model_gru.fit(X_tr_t, y_train, epochs=100, batch_size=1, verbose=1, shuffle=False, callbacks=[early_stop])"
   ]
  },
  {
   "cell_type": "code",
   "execution_count": 151,
   "metadata": {},
   "outputs": [
    {
     "data": {
      "text/plain": [
       "<matplotlib.legend.Legend at 0x17efd99b190>"
      ]
     },
     "execution_count": 151,
     "metadata": {},
     "output_type": "execute_result"
    },
    {
     "data": {
      "image/png": "[encoded data removed]",
      "text/plain": [
       "<Figure size 640x480 with 1 Axes>"
      ]
     },
     "metadata": {},
     "output_type": "display_data"
    }
   ],
   "source": [
    "N = 19\n",
    "\n",
    "plt.figure()\n",
    "\n",
    "plt.plot(np.arange(0, N), history_model_gru.history[\"loss\"], label=\"loss\")\n",
    "plt.title(\"Training Loss on Forex Dataset\")\n",
    "plt.xlabel(\"Epoch #\")\n",
    "plt.ylabel(\"Loss\")\n",
    "plt.legend(loc=\"upper right\")"
   ]
  },
  {
   "cell_type": "markdown",
   "metadata": {},
   "source": [
    "### GRU Prediction"
   ]
  },
  {
   "cell_type": "code",
   "execution_count": null,
   "metadata": {},
   "outputs": [
    {
     "name": "stdout",
     "output_type": "stream",
     "text": [
      "2/2 [==============================] - 0s 2ms/step\n",
      "36/36 [==============================] - 0s 2ms/step\n",
      "The R2 score on the Train set is:\t0.991\n",
      "The  MAE on the Train set is:\t0.063\n",
      "The  RMSE on the Train set is:\t0.093\n",
      "The Adjusted R2 score on the Train set is:\t0.991\n",
      "\n",
      "The R2 score on the Test set is:\t0.692\n",
      "The Adjusted R2 score on the Test set is:\t0.683\n",
      "The  MAE on the Test set is:\t0.123\n",
      "The  RMSE on the Test set is:\t0.175\n"
     ]
    }
   ],
   "source": [
    "\n",
    "\n",
    "y_pred_test_gru = model_gru.predict(X_tst_t)\n",
    "y_train_pred_gru = model_gru.predict(X_tr_t)\n",
    "\n",
    "train_mse = metrics.mean_squared_error(y_train, y_train_pred_gru)\n",
    "rmse_train = np.sqrt(train_mse)\n",
    "\n",
    "test_mse = metrics.mean_squared_error(y_test, y_pred_test_gru)\n",
    "rmse_test = np.sqrt(test_mse)\n",
    "\n",
    "print(\"The R2 score on the Train set is:\\t{:0.3f}\".format(r2_score(y_train, y_train_pred_gru)))\n",
    "print(\"The  MAE on the Train set is:\\t{:0.3f}\".format(metrics.mean_absolute_error(y_train, y_train_pred_gru)))\n",
    "\n",
    "print(\"The  RMSE on the Train set is:\\t{:0.3f}\".format(rmse_train))\n",
    "r2_train = r2_score(y_train, y_train_pred_gru)\n",
    "print(\"The Adjusted R2 score on the Train set is:\\t{:0.3f}\\n\".format(adj_r2_score(r2_train, X_train.shape[0], X_train.shape[1])))\n",
    "print(\"The R2 score on the Test set is:\\t{:0.3f}\".format(r2_score(y_test, y_pred_test_gru)))\n",
    "r2_test = r2_score(y_test, y_pred_test_gru)\n",
    "print(\"The Adjusted R2 score on the Test set is:\\t{:0.3f}\".format(adj_r2_score(r2_test, X_test.shape[0], X_test.shape[1])))\n",
    "print(\"The  MAE on the Test set is:\\t{:0.3f}\".format(metrics.mean_absolute_error(y_test, y_pred_test_gru)))\n",
    "print(\"The  RMSE on the Test set is:\\t{:0.3f}\".format(rmse_test))"
   ]
  },
  {
   "cell_type": "markdown",
   "metadata": {},
   "source": [
    "### GRU Prediction Plot"
   ]
  },
  {
   "cell_type": "code",
   "execution_count": null,
   "metadata": {},
   "outputs": [
    {
     "data": {
      "image/png": "[encoded data removed]",
      "text/plain": [
       "<Figure size 1200x800 with 1 Axes>"
      ]
     },
     "metadata": {},
     "output_type": "display_data"
    }
   ],
   "source": [
    "plt.figure(figsize=(12,8))\n",
    "plt.plot(y_test, label='True')\n",
    "plt.plot(y_pred_test_gru, label='GRU')\n",
    "plt.title(\"GRU's_Prediction\")\n",
    "plt.xlabel('Observation')\n",
    "plt.ylabel('INR_Scaled')\n",
    "plt.legend()\n",
    "plt.show()"
   ]
  },
  {
   "cell_type": "code",
   "execution_count": null,
   "metadata": {},
   "outputs": [
    {
     "data": {
      "text/plain": [
       "array([[268.72604],\n",
       "       [272.5575 ],\n",
       "       [276.3556 ],\n",
       "       [276.68198],\n",
       "       [277.7382 ],\n",
       "       [275.9621 ],\n",
       "       [271.35968],\n",
       "       [271.35968],\n",
       "       [271.35968],\n",
       "       [269.20477],\n",
       "       [268.0081 ],\n",
       "       [267.5008 ],\n",
       "       [264.64923],\n",
       "       [263.94125],\n",
       "       [264.64923],\n",
       "       [263.6925 ],\n",
       "       [264.898  ],\n",
       "       [262.21918],\n",
       "       [262.02783],\n",
       "       [263.46292],\n",
       "       [263.46292],\n",
       "       [283.02725],\n",
       "       [277.35406],\n",
       "       [277.06598],\n",
       "       [278.31454],\n",
       "       [279.27545],\n",
       "       [279.27545],\n",
       "       [281.72775],\n",
       "       [283.31613],\n",
       "       [278.45865],\n",
       "       [284.56845],\n",
       "       [284.56845],\n",
       "       [283.12357],\n",
       "       [282.85394],\n",
       "       [282.6999 ]], dtype=float32)"
      ]
     },
     "execution_count": 119,
     "metadata": {},
     "output_type": "execute_result"
    }
   ],
   "source": [
    "inv_yhat = sc.inverse_transform(y_pred_test_gru)\n",
    "\n",
    "inv_yhat"
   ]
  },
  {
   "cell_type": "code",
   "execution_count": null,
   "metadata": {},
   "outputs": [
    {
     "data": {
      "text/plain": [
       "array([[270.5  ],\n",
       "       [274.46 ],\n",
       "       [274.8  ],\n",
       "       [275.9  ],\n",
       "       [274.05 ],\n",
       "       [269.25 ],\n",
       "       [269.25 ],\n",
       "       [269.25 ],\n",
       "       [267.   ],\n",
       "       [265.75 ],\n",
       "       [265.22 ],\n",
       "       [262.24 ],\n",
       "       [261.5  ],\n",
       "       [262.24 ],\n",
       "       [261.24 ],\n",
       "       [262.5  ],\n",
       "       [259.7  ],\n",
       "       [259.5  ],\n",
       "       [261.   ],\n",
       "       [261.   ],\n",
       "       [281.4  ],\n",
       "       [275.5  ],\n",
       "       [275.2  ],\n",
       "       [276.5  ],\n",
       "       [277.5  ],\n",
       "       [277.5  ],\n",
       "       [280.05 ],\n",
       "       [281.7  ],\n",
       "       [276.65 ],\n",
       "       [283.   ],\n",
       "       [283.   ],\n",
       "       [281.5  ],\n",
       "       [281.22 ],\n",
       "       [281.06 ],\n",
       "       [283.125]])"
      ]
     },
     "execution_count": 120,
     "metadata": {},
     "output_type": "execute_result"
    }
   ],
   "source": [
    "inv_ytest = sc.inverse_transform(y_test)\n",
    "\n",
    "inv_ytest"
   ]
  },
  {
   "cell_type": "code",
   "execution_count": null,
   "metadata": {},
   "outputs": [
    {
     "name": "stdout",
     "output_type": "stream",
     "text": [
      "The R2 score on the Test set is:\t0.692\n",
      "The Adjusted R2 score on the Test set is:\t0.683\n",
      "The  MAE on the Test set is:\t3.111\n",
      "The  RMSE on the Test set is:\t4.417\n"
     ]
    }
   ],
   "source": [
    "test_mse = metrics.mean_squared_error(inv_ytest, inv_yhat)\n",
    "rmse_test = np.sqrt(test_mse)\n",
    "\n",
    "\n",
    "print(\"The R2 score on the Test set is:\\t{:0.3f}\".format(r2_score(inv_ytest, inv_yhat)))\n",
    "r2_test = r2_score(inv_ytest, inv_yhat)\n",
    "print(\"The Adjusted R2 score on the Test set is:\\t{:0.3f}\".format(adj_r2_score(r2_test, X_test.shape[0], X_test.shape[1])))\n",
    "print(\"The  MAE on the Test set is:\\t{:0.3f}\".format(metrics.mean_absolute_error(inv_ytest, inv_yhat)))\n",
    "print(\"The  RMSE on the Test set is:\\t{:0.3f}\".format(rmse_test))"
   ]
  },
  {
   "cell_type": "code",
   "execution_count": null,
   "metadata": {},
   "outputs": [
    {
     "data": {
      "text/html": [
       "<div>\n",
       "<style scoped>\n",
       "    .dataframe tbody tr th:only-of-type {\n",
       "        vertical-align: middle;\n",
       "    }\n",
       "\n",
       "    .dataframe tbody tr th {\n",
       "        vertical-align: top;\n",
       "    }\n",
       "\n",
       "    .dataframe thead th {\n",
       "        text-align: right;\n",
       "    }\n",
       "</style>\n",
       "<table border=\"1\" class=\"dataframe\">\n",
       "  <thead>\n",
       "    <tr style=\"text-align: right;\">\n",
       "      <th></th>\n",
       "      <th>Price</th>\n",
       "    </tr>\n",
       "    <tr>\n",
       "      <th>Date</th>\n",
       "      <th></th>\n",
       "    </tr>\n",
       "  </thead>\n",
       "  <tbody>\n",
       "    <tr>\n",
       "      <th>2023-02-01</th>\n",
       "      <td>266.50</td>\n",
       "    </tr>\n",
       "    <tr>\n",
       "      <th>2023-02-02</th>\n",
       "      <td>270.50</td>\n",
       "    </tr>\n",
       "    <tr>\n",
       "      <th>2023-02-03</th>\n",
       "      <td>274.46</td>\n",
       "    </tr>\n",
       "    <tr>\n",
       "      <th>2023-02-06</th>\n",
       "      <td>274.80</td>\n",
       "    </tr>\n",
       "    <tr>\n",
       "      <th>2023-02-07</th>\n",
       "      <td>275.90</td>\n",
       "    </tr>\n",
       "  </tbody>\n",
       "</table>\n",
       "</div>"
      ],
      "text/plain": [
       "             Price\n",
       "Date              \n",
       "2023-02-01  266.50\n",
       "2023-02-02  270.50\n",
       "2023-02-03  274.46\n",
       "2023-02-06  274.80\n",
       "2023-02-07  275.90"
      ]
     },
     "execution_count": 122,
     "metadata": {},
     "output_type": "execute_result"
    }
   ],
   "source": [
    "test.head()"
   ]
  },
  {
   "cell_type": "code",
   "execution_count": null,
   "metadata": {},
   "outputs": [],
   "source": [
    "col1 = pd.DataFrame(inv_ytest, columns=['Price'])\n",
    "\n",
    "col2 = pd.DataFrame(inv_yhat, columns=['GRU_prediction'])\n",
    "\n",
    "col3 = pd.DataFrame(history_model_gru.history['rmse'], columns=['RMSE'])\n",
    "results = pd.concat([col1, col2, col3], axis=1)\n",
    "results.to_csv('Prediction_USD_INR_GRU.xlsx')"
   ]
  },
  {
   "cell_type": "code",
   "execution_count": null,
   "metadata": {},
   "outputs": [
    {
     "data": {
      "text/html": [
       "<div>\n",
       "<style scoped>\n",
       "    .dataframe tbody tr th:only-of-type {\n",
       "        vertical-align: middle;\n",
       "    }\n",
       "\n",
       "    .dataframe tbody tr th {\n",
       "        vertical-align: top;\n",
       "    }\n",
       "\n",
       "    .dataframe thead th {\n",
       "        text-align: right;\n",
       "    }\n",
       "</style>\n",
       "<table border=\"1\" class=\"dataframe\">\n",
       "  <thead>\n",
       "    <tr style=\"text-align: right;\">\n",
       "      <th></th>\n",
       "      <th>Price</th>\n",
       "      <th>GRU_prediction</th>\n",
       "      <th>RMSE</th>\n",
       "    </tr>\n",
       "  </thead>\n",
       "  <tbody>\n",
       "    <tr>\n",
       "      <th>0</th>\n",
       "      <td>270.50</td>\n",
       "      <td>268.726044</td>\n",
       "      <td>0.093978</td>\n",
       "    </tr>\n",
       "    <tr>\n",
       "      <th>1</th>\n",
       "      <td>274.46</td>\n",
       "      <td>272.557495</td>\n",
       "      <td>0.065107</td>\n",
       "    </tr>\n",
       "    <tr>\n",
       "      <th>2</th>\n",
       "      <td>274.80</td>\n",
       "      <td>276.355591</td>\n",
       "      <td>0.058037</td>\n",
       "    </tr>\n",
       "    <tr>\n",
       "      <th>3</th>\n",
       "      <td>275.90</td>\n",
       "      <td>276.681976</td>\n",
       "      <td>0.054688</td>\n",
       "    </tr>\n",
       "    <tr>\n",
       "      <th>4</th>\n",
       "      <td>274.05</td>\n",
       "      <td>277.738190</td>\n",
       "      <td>0.054763</td>\n",
       "    </tr>\n",
       "  </tbody>\n",
       "</table>\n",
       "</div>"
      ],
      "text/plain": [
       "    Price  GRU_prediction      RMSE\n",
       "0  270.50      268.726044  0.093978\n",
       "1  274.46      272.557495  0.065107\n",
       "2  274.80      276.355591  0.058037\n",
       "3  275.90      276.681976  0.054688\n",
       "4  274.05      277.738190  0.054763"
      ]
     },
     "execution_count": 124,
     "metadata": {},
     "output_type": "execute_result"
    }
   ],
   "source": [
    "results.head()"
   ]
  },
  {
   "cell_type": "code",
   "execution_count": null,
   "metadata": {},
   "outputs": [
    {
     "data": {
      "text/html": [
       "<div>\n",
       "<style scoped>\n",
       "    .dataframe tbody tr th:only-of-type {\n",
       "        vertical-align: middle;\n",
       "    }\n",
       "\n",
       "    .dataframe tbody tr th {\n",
       "        vertical-align: top;\n",
       "    }\n",
       "\n",
       "    .dataframe thead th {\n",
       "        text-align: right;\n",
       "    }\n",
       "</style>\n",
       "<table border=\"1\" class=\"dataframe\">\n",
       "  <thead>\n",
       "    <tr style=\"text-align: right;\">\n",
       "      <th></th>\n",
       "      <th>Date</th>\n",
       "      <th>Price</th>\n",
       "    </tr>\n",
       "  </thead>\n",
       "  <tbody>\n",
       "    <tr>\n",
       "      <th>0</th>\n",
       "      <td>2023-02-01</td>\n",
       "      <td>266.50</td>\n",
       "    </tr>\n",
       "    <tr>\n",
       "      <th>1</th>\n",
       "      <td>2023-02-02</td>\n",
       "      <td>270.50</td>\n",
       "    </tr>\n",
       "    <tr>\n",
       "      <th>2</th>\n",
       "      <td>2023-02-03</td>\n",
       "      <td>274.46</td>\n",
       "    </tr>\n",
       "    <tr>\n",
       "      <th>3</th>\n",
       "      <td>2023-02-06</td>\n",
       "      <td>274.80</td>\n",
       "    </tr>\n",
       "    <tr>\n",
       "      <th>4</th>\n",
       "      <td>2023-02-07</td>\n",
       "      <td>275.90</td>\n",
       "    </tr>\n",
       "  </tbody>\n",
       "</table>\n",
       "</div>"
      ],
      "text/plain": [
       "        Date   Price\n",
       "0 2023-02-01  266.50\n",
       "1 2023-02-02  270.50\n",
       "2 2023-02-03  274.46\n",
       "3 2023-02-06  274.80\n",
       "4 2023-02-07  275.90"
      ]
     },
     "execution_count": 125,
     "metadata": {},
     "output_type": "execute_result"
    }
   ],
   "source": [
    "test.reset_index(level=0, inplace=True)\n",
    "test.head()"
   ]
  },
  {
   "cell_type": "code",
   "execution_count": null,
   "metadata": {},
   "outputs": [],
   "source": [
    "dfinal = test.merge(results, how='inner', left_on='Price', right_on='Price')"
   ]
  },
  {
   "cell_type": "code",
   "execution_count": null,
   "metadata": {},
   "outputs": [
    {
     "data": {
      "text/html": [
       "<div>\n",
       "<style scoped>\n",
       "    .dataframe tbody tr th:only-of-type {\n",
       "        vertical-align: middle;\n",
       "    }\n",
       "\n",
       "    .dataframe tbody tr th {\n",
       "        vertical-align: top;\n",
       "    }\n",
       "\n",
       "    .dataframe thead th {\n",
       "        text-align: right;\n",
       "    }\n",
       "</style>\n",
       "<table border=\"1\" class=\"dataframe\">\n",
       "  <thead>\n",
       "    <tr style=\"text-align: right;\">\n",
       "      <th></th>\n",
       "      <th>Date</th>\n",
       "      <th>Price</th>\n",
       "      <th>GRU_prediction</th>\n",
       "      <th>RMSE</th>\n",
       "    </tr>\n",
       "  </thead>\n",
       "  <tbody>\n",
       "    <tr>\n",
       "      <th>0</th>\n",
       "      <td>2023-02-02</td>\n",
       "      <td>270.50</td>\n",
       "      <td>268.726044</td>\n",
       "      <td>0.093978</td>\n",
       "    </tr>\n",
       "    <tr>\n",
       "      <th>1</th>\n",
       "      <td>2023-02-03</td>\n",
       "      <td>274.46</td>\n",
       "      <td>272.557495</td>\n",
       "      <td>0.065107</td>\n",
       "    </tr>\n",
       "    <tr>\n",
       "      <th>2</th>\n",
       "      <td>2023-02-06</td>\n",
       "      <td>274.80</td>\n",
       "      <td>276.355591</td>\n",
       "      <td>0.058037</td>\n",
       "    </tr>\n",
       "    <tr>\n",
       "      <th>3</th>\n",
       "      <td>2023-02-07</td>\n",
       "      <td>275.90</td>\n",
       "      <td>276.681976</td>\n",
       "      <td>0.054688</td>\n",
       "    </tr>\n",
       "    <tr>\n",
       "      <th>4</th>\n",
       "      <td>2023-02-08</td>\n",
       "      <td>274.05</td>\n",
       "      <td>277.738190</td>\n",
       "      <td>0.054763</td>\n",
       "    </tr>\n",
       "  </tbody>\n",
       "</table>\n",
       "</div>"
      ],
      "text/plain": [
       "        Date   Price  GRU_prediction      RMSE\n",
       "0 2023-02-02  270.50      268.726044  0.093978\n",
       "1 2023-02-03  274.46      272.557495  0.065107\n",
       "2 2023-02-06  274.80      276.355591  0.058037\n",
       "3 2023-02-07  275.90      276.681976  0.054688\n",
       "4 2023-02-08  274.05      277.738190  0.054763"
      ]
     },
     "execution_count": 127,
     "metadata": {},
     "output_type": "execute_result"
    }
   ],
   "source": [
    "dfinal.drop_duplicates(subset=\"Date\",inplace=True)\n",
    "\n",
    "\n",
    "dfinal.head()"
   ]
  },
  {
   "cell_type": "code",
   "execution_count": null,
   "metadata": {},
   "outputs": [
    {
     "data": {
      "image/png": "[encoded data removed]",
      "text/plain": [
       "<Figure size 1200x800 with 1 Axes>"
      ]
     },
     "metadata": {},
     "output_type": "display_data"
    }
   ],
   "source": [
    "plt.figure(figsize=(12,8))\n",
    "price_date = dfinal['Date']\n",
    "price_true = dfinal['Price']\n",
    "price_pred = dfinal['GRU_prediction']\n",
    "plt.plot_date(price_date, price_true,label='Actual Price')\n",
    "plt.plot_date(price_date, price_pred,label='Predicted Price')\n",
    "plt.legend()\n",
    "plt.show()"
   ]
  },
  {
   "cell_type": "code",
   "execution_count": null,
   "metadata": {},
   "outputs": [
    {
     "data": {
      "text/html": [
       "<div>\n",
       "<style scoped>\n",
       "    .dataframe tbody tr th:only-of-type {\n",
       "        vertical-align: middle;\n",
       "    }\n",
       "\n",
       "    .dataframe tbody tr th {\n",
       "        vertical-align: top;\n",
       "    }\n",
       "\n",
       "    .dataframe thead th {\n",
       "        text-align: right;\n",
       "    }\n",
       "</style>\n",
       "<table border=\"1\" class=\"dataframe\">\n",
       "  <thead>\n",
       "    <tr style=\"text-align: right;\">\n",
       "      <th></th>\n",
       "      <th>Price</th>\n",
       "      <th>GRU_prediction</th>\n",
       "      <th>RMSE</th>\n",
       "    </tr>\n",
       "  </thead>\n",
       "  <tbody>\n",
       "    <tr>\n",
       "      <th>count</th>\n",
       "      <td>35.000000</td>\n",
       "      <td>35.000000</td>\n",
       "      <td>18.000000</td>\n",
       "    </tr>\n",
       "    <tr>\n",
       "      <th>mean</th>\n",
       "      <td>272.035857</td>\n",
       "      <td>273.705872</td>\n",
       "      <td>0.057992</td>\n",
       "    </tr>\n",
       "    <tr>\n",
       "      <th>std</th>\n",
       "      <td>8.080082</td>\n",
       "      <td>7.313184</td>\n",
       "      <td>0.009317</td>\n",
       "    </tr>\n",
       "    <tr>\n",
       "      <th>min</th>\n",
       "      <td>259.500000</td>\n",
       "      <td>262.027832</td>\n",
       "      <td>0.054447</td>\n",
       "    </tr>\n",
       "    <tr>\n",
       "      <th>25%</th>\n",
       "      <td>263.860000</td>\n",
       "      <td>267.500793</td>\n",
       "      <td>0.054640</td>\n",
       "    </tr>\n",
       "    <tr>\n",
       "      <th>50%</th>\n",
       "      <td>274.460000</td>\n",
       "      <td>275.962097</td>\n",
       "      <td>0.055014</td>\n",
       "    </tr>\n",
       "    <tr>\n",
       "      <th>75%</th>\n",
       "      <td>278.775000</td>\n",
       "      <td>278.458649</td>\n",
       "      <td>0.056142</td>\n",
       "    </tr>\n",
       "    <tr>\n",
       "      <th>max</th>\n",
       "      <td>283.125000</td>\n",
       "      <td>284.568451</td>\n",
       "      <td>0.093978</td>\n",
       "    </tr>\n",
       "  </tbody>\n",
       "</table>\n",
       "</div>"
      ],
      "text/plain": [
       "            Price  GRU_prediction       RMSE\n",
       "count   35.000000       35.000000  18.000000\n",
       "mean   272.035857      273.705872   0.057992\n",
       "std      8.080082        7.313184   0.009317\n",
       "min    259.500000      262.027832   0.054447\n",
       "25%    263.860000      267.500793   0.054640\n",
       "50%    274.460000      275.962097   0.055014\n",
       "75%    278.775000      278.458649   0.056142\n",
       "max    283.125000      284.568451   0.093978"
      ]
     },
     "execution_count": 129,
     "metadata": {},
     "output_type": "execute_result"
    }
   ],
   "source": [
    "dfinal.describe()"
   ]
  },
  {
   "cell_type": "code",
   "execution_count": 150,
   "metadata": {},
   "outputs": [],
   "source": [
    "df_last = dfinal.tail(20)\n",
    "df_last.head()\n",
    "df_last.to_csv('checkpoints/predictions.csv', index=False)"
   ]
  }
 ],
 "metadata": {
  "kernelspec": {
   "display_name": "Python 3",
   "language": "python",
   "name": "python3"
  },
  "language_info": {
   "codemirror_mode": {
    "name": "ipython",
    "version": 3
   },
   "file_extension": ".py",
   "mimetype": "text/x-python",
   "name": "python",
   "nbconvert_exporter": "python",
   "pygments_lexer": "ipython3",
   "version": "3.11.2"
  }
 },
 "nbformat": 4,
 "nbformat_minor": 2
}
